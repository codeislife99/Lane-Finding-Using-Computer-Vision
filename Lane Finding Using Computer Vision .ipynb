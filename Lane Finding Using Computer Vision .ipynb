{
 "cells": [
  {
   "cell_type": "code",
   "execution_count": 1,
   "metadata": {
    "collapsed": false
   },
   "outputs": [
    {
     "data": {
      "text/plain": [
       "<matplotlib.figure.Figure at 0x7ff00e67b3d0>"
      ]
     },
     "execution_count": 1,
     "metadata": {},
     "output_type": "execute_result"
    },
    {
     "data": {
      "text/plain": [
       "<matplotlib.figure.Figure at 0x7ff00e67b3d0>"
      ]
     },
     "metadata": {},
     "output_type": "display_data"
    }
   ],
   "source": [
    "import numpy as np\n",
    "import cv2\n",
    "import glob\n",
    "import matplotlib.pyplot as plt\n",
    "import os\n",
    "import pickle \n",
    "from scipy.interpolate import UnivariateSpline\n",
    "from scipy.signal import find_peaks_cwt\n",
    "from moviepy.editor import VideoFileClip\n",
    "from IPython.display import HTML\n",
    "%matplotlib inline\n",
    "plt.figure(figsize=(10,8))"
   ]
  },
  {
   "cell_type": "code",
   "execution_count": 2,
   "metadata": {
    "collapsed": true
   },
   "outputs": [],
   "source": [
    "def display(image):\n",
    "    plt.imshow(image),plt.show()"
   ]
  },
  {
   "cell_type": "code",
   "execution_count": 3,
   "metadata": {
    "collapsed": true
   },
   "outputs": [],
   "source": [
    "def getCalibrationImages():\n",
    "    images = glob.glob('camera_cal/calibration*.jpg')\n",
    "    return images"
   ]
  },
  {
   "cell_type": "code",
   "execution_count": 4,
   "metadata": {
    "collapsed": true
   },
   "outputs": [],
   "source": [
    "def getObjImgpoints():\n",
    "# prepare object points, like (0,0,0), (1,0,0), (2,0,0) ....,(6,5,0)\n",
    "    objp = np.zeros((6*9,3), np.float32)\n",
    "    objp[:,:2] = np.mgrid[0:9,0:6].T.reshape(-1,2)\n",
    "\n",
    "    # Arrays to store object points and image points from all the images.\n",
    "    objpoints = [] # 3d points in real world space\n",
    "    imgpoints = [] # 2d points in image plane.\n",
    "\n",
    "    # Make a list of calibration images\n",
    "    images = getCalibrationImages()\n",
    "    # Step through the list and search for chessboard corners\n",
    "    for fname in images:\n",
    "        img = cv2.imread(fname)\n",
    "        gray = cv2.cvtColor(img,cv2.COLOR_BGR2GRAY)\n",
    "\n",
    "        # Find the chessboard corners\n",
    "        ret, corners = cv2.findChessboardCorners(gray, (9,6),None)\n",
    "\n",
    "        # If found, add object points, image points\n",
    "        if ret == True:\n",
    "            objpoints.append(objp)\n",
    "            imgpoints.append(corners)\n",
    "    \n",
    "    return objpoints,imgpoints"
   ]
  },
  {
   "cell_type": "code",
   "execution_count": 5,
   "metadata": {
    "collapsed": true
   },
   "outputs": [],
   "source": [
    "def getCalibrationImgSize():\n",
    "    img = cv2.imread(\"camera_cal/calibration2.jpg\")\n",
    "    img_size = (img.shape[1], img.shape[0])\n",
    "    return img_size"
   ]
  },
  {
   "cell_type": "code",
   "execution_count": 6,
   "metadata": {
    "collapsed": true
   },
   "outputs": [],
   "source": [
    "def calibrateCamera():\n",
    "    objpoints,imgpoints = getObjImgpoints()\n",
    "    img_size = getCalibrationImgSize()\n",
    "    _, mtx, dist,_,_ = cv2.calibrateCamera(objpoints, imgpoints, img_size,None,None)\n",
    "    return mtx,dist"
   ]
  },
  {
   "cell_type": "code",
   "execution_count": 7,
   "metadata": {
    "collapsed": true
   },
   "outputs": [],
   "source": [
    "def undistort(image):\n",
    "    mtx,dist = calibrateCamera()\n",
    "    undist_img = cv2.undistort(image, mtx, dist, None, mtx)\n",
    "    return undist_img"
   ]
  },
  {
   "cell_type": "code",
   "execution_count": 8,
   "metadata": {
    "collapsed": false
   },
   "outputs": [],
   "source": [
    "def testundistort():\n",
    "    img = cv2.imread(\"camera_cal/calibration2.jpg\")\n",
    "    img2 = undistort(img)\n",
    "    display(img)\n",
    "    display(img2)\n",
    "    \n",
    "    imgRGB = cv2.cvtColor(cv2.imread(\"test_images/test3.jpg\"), cv2.COLOR_BGR2RGB)\n",
    "    img2 = undistort(imgRGB)\n",
    "    display(imgRGB)\n",
    "    display(img2)"
   ]
  },
  {
   "cell_type": "code",
   "execution_count": 9,
   "metadata": {
    "collapsed": false
   },
   "outputs": [],
   "source": [
    "def gettestimage():\n",
    "    return(cv2.cvtColor(cv2.imread(\"test_images/test3.jpg\"), cv2.COLOR_BGR2RGB))"
   ]
  },
  {
   "cell_type": "code",
   "execution_count": 10,
   "metadata": {
    "collapsed": true
   },
   "outputs": [],
   "source": [
    "def warp_image(img,src,dst,img_size):\n",
    "    # Apply perspective transform\n",
    "    M      = cv2.getPerspectiveTransform(src, dst)\n",
    "    warped = cv2.warpPerspective(img, M, img_size, flags=cv2.INTER_LINEAR)\n",
    "    Minv   = cv2.getPerspectiveTransform(dst, src)\n",
    "\n",
    "    return warped,Minv"
   ]
  },
  {
   "cell_type": "code",
   "execution_count": 11,
   "metadata": {
    "collapsed": true
   },
   "outputs": [],
   "source": [
    "def apply_perspective_transform(image):\n",
    "    # Applies bird-eye perspective transform to an image\n",
    "    height,width = image.shape[0],image.shape[1]\n",
    "    \n",
    "    Topleftpoint     = [np.uint(width/2) - .25*np.uint(width/2),np.uint(height/1.5)]\n",
    "    Toprightpoint    = [np.uint(width/2) + .25*np.uint(width/2),np.uint(height/1.5)]\n",
    "    Bottomleftpoint  = [0                                      ,np.uint(height)    ]\n",
    "    Bottomrightpoint = [np.uint(width)                         ,np.uint(height)    ]\n",
    "\n",
    "    src              = np.float32([Bottomleftpoint,Bottomrightpoint,Toprightpoint,Topleftpoint])\n",
    "    dst              = np.float32([[0,height]     ,[width,height]  ,[width,0]    ,[0,0]       ])\n",
    "    \n",
    "    warped,Minv_warp = warp_image(image,src,dst,(width,height)) # returns birds eye image\n",
    "    \n",
    "    return warped,Minv_warp\n"
   ]
  },
  {
   "cell_type": "code",
   "execution_count": 12,
   "metadata": {
    "collapsed": false
   },
   "outputs": [
    {
     "data": {
      "image/png": "[encoded data removed]",
      "text/plain": [
       "<matplotlib.figure.Figure at 0x7ff0482473d0>"
      ]
     },
     "metadata": {},
     "output_type": "display_data"
    }
   ],
   "source": [
    "warped,_ =apply_perspective_transform(gettestimage())\n",
    "display(warped)"
   ]
  },
  {
   "cell_type": "code",
   "execution_count": 13,
   "metadata": {
    "collapsed": true
   },
   "outputs": [],
   "source": [
    "def blur(image,kernel_size = 5):\n",
    "    blur = cv2.GaussianBlur(image,(kernel_size,kernel_size),0)\n",
    "    return blur"
   ]
  },
  {
   "cell_type": "code",
   "execution_count": 14,
   "metadata": {
    "collapsed": true
   },
   "outputs": [],
   "source": [
    "def RGB2HSV(image):\n",
    "    return(cv2.cvtColor(image,cv2.COLOR_RGB2HSV))"
   ]
  },
  {
   "cell_type": "code",
   "execution_count": 15,
   "metadata": {
    "collapsed": true
   },
   "outputs": [],
   "source": [
    "def abs_sobel_thresh(img, orient='x', sobel_kernel=3, thresh=(0, 255)):\n",
    "    # Calculate directional gradient\n",
    "    # Apply threshold\n",
    "    if orient=='x':\n",
    "        img_s = cv2.Sobel(img,cv2.CV_64F, 1, 0)\n",
    "    else:\n",
    "        img_s = cv2.Sobel(img,cv2.CV_64F, 0, 1)\n",
    "    img_abs = np.absolute(img_s)\n",
    "    img_sobel = np.uint8(255*img_abs/np.max(img_abs))\n",
    "    \n",
    "    binary_output = 0*img_sobel\n",
    "    binary_output[(img_sobel >= thresh[0]) & (img_sobel <= thresh[1])] = 1\n",
    "    return binary_output"
   ]
  },
  {
   "cell_type": "code",
   "execution_count": 16,
   "metadata": {
    "collapsed": true
   },
   "outputs": [],
   "source": [
    "def color_mask(hsv,low,high):\n",
    "    # Takes in low and high values and returns mask\n",
    "    mask = cv2.inRange(hsv, low, high)\n",
    "    return mask"
   ]
  },
  {
   "cell_type": "code",
   "execution_count": 17,
   "metadata": {
    "collapsed": true
   },
   "outputs": [],
   "source": [
    "def apply_color_mask(hsv,img,low,high):\n",
    "    # Takes in color mask and returns image with mask applied.\n",
    "    mask = color_mask(hsv, low, high)\n",
    "    res = cv2.bitwise_and(img,img, mask= mask)\n",
    "    return res"
   ]
  },
  {
   "cell_type": "code",
   "execution_count": 18,
   "metadata": {
    "collapsed": true
   },
   "outputs": [],
   "source": [
    "def moving_average(a, n=3):\n",
    "    # Moving average\n",
    "    ret = np.cumsum(a, dtype=float)\n",
    "    ret[n:] = ret[n:] - ret[:-n]\n",
    "    return ret[n - 1:] / n"
   ]
  },
  {
   "cell_type": "code",
   "execution_count": 19,
   "metadata": {
    "collapsed": true
   },
   "outputs": [],
   "source": [
    "def get_curvature(pol_a,y_pt):\n",
    "    # Returns curvature of a quadratic\n",
    "    A = pol_a[0]\n",
    "    B = pol_a[1]\n",
    "    R_curve = (1+(2*A*y_pt+B)**2)**1.5/2/A\n",
    "    return R_curve"
   ]
  },
  {
   "cell_type": "code",
   "execution_count": 20,
   "metadata": {
    "collapsed": true
   },
   "outputs": [],
   "source": [
    "def stack_arr(arr):\n",
    "    # Stacks 1-channel array into 3-channel array to allow plotting\n",
    "    return np.stack((arr, arr,arr), axis=2)"
   ]
  },
  {
   "cell_type": "code",
   "execution_count": 21,
   "metadata": {
    "collapsed": true
   },
   "outputs": [],
   "source": [
    "def yellowmask():\n",
    "    return np.array([ 0, 100, 100]),np.array([ 50, 255, 255])"
   ]
  },
  {
   "cell_type": "code",
   "execution_count": 22,
   "metadata": {
    "collapsed": true
   },
   "outputs": [],
   "source": [
    "def whitemask():\n",
    "    return  np.array([ 20, 0, 180]),np.array([ 255,  80, 255])"
   ]
  },
  {
   "cell_type": "code",
   "execution_count": 23,
   "metadata": {
    "collapsed": true
   },
   "outputs": [],
   "source": [
    "def combine(mask1,mask2):\n",
    "    return cv2.bitwise_or(mask1,mask2)"
   ]
  },
  {
   "cell_type": "code",
   "execution_count": 24,
   "metadata": {
    "collapsed": true
   },
   "outputs": [],
   "source": [
    "def get_initial_mask(img,window_sz):\n",
    "    \n",
    "    # This function gets the initial mask\n",
    "    \n",
    "    img = blur(img,5)\n",
    "    height       = np.shape(img)[0]\n",
    "    width        = np.shape(img)[1]\n",
    "    mov_filtsize = width/50.\n",
    "    mean_ln      = np.mean(img[height/2:,:],axis=0)\n",
    "    mean_ln      = moving_average(mean_ln,mov_filtsize)\n",
    "    \n",
    "    indexes = find_peaks_cwt(mean_ln,[100], max_distances=[800])\n",
    "\n",
    "    val_ind = np.array([mean_ln[indexes[i]] for i in range(len(indexes)) ])\n",
    "    ind_sorted = np.argsort(-val_ind)\n",
    "\n",
    "    ind_peakR = indexes[ind_sorted[0]]\n",
    "    ind_peakL = indexes[ind_sorted[1]]\n",
    "    if ind_peakR<ind_peakL:\n",
    "        ind_temp = ind_peakR\n",
    "        ind_peakR = ind_peakL\n",
    "        ind_peakL = ind_temp\n",
    "\n",
    "    n_vals = 8\n",
    "    ind_min_L = ind_peakL-window_sz\n",
    "    ind_max_L = ind_peakL+window_sz\n",
    "\n",
    "    ind_min_R = ind_peakR-window_sz\n",
    "    ind_max_R = ind_peakR+window_sz\n",
    "\n",
    "    mask_L_i = np.zeros_like(img)\n",
    "    mask_R_i = np.zeros_like(img)\n",
    "\n",
    "    ind_peakR_prev = ind_peakR\n",
    "    ind_peakL_prev = ind_peakL\n",
    "    \n",
    "    # Split image into 8 parts and compute histogram on each part\n",
    "    \n",
    "    for i in range(8):\n",
    "        img_y1 = height-height*i/8\n",
    "        img_y2 = height-height*(i+1)/8\n",
    "    \n",
    "        mean_lane_y = np.mean(img[img_y2:img_y1,:],axis=0)\n",
    "        mean_lane_y = moving_average(mean_lane_y,mov_filtsize)\n",
    "        indexes = find_peaks_cwt(mean_lane_y,[100], max_distances=[800])\n",
    "        \n",
    "        if len(indexes)>1.5:\n",
    "            val_ind = np.array([mean_ln[indexes[i]] for i in range(len(indexes)) ])\n",
    "            ind_sorted = np.argsort(-val_ind)\n",
    "\n",
    "            ind_peakR = indexes[ind_sorted[0]]\n",
    "            ind_peakL = indexes[ind_sorted[1]]\n",
    "            if ind_peakR<ind_peakL:\n",
    "                ind_temp = ind_peakR\n",
    "                ind_peakR = ind_peakL\n",
    "                ind_peakL = ind_temp\n",
    "            \n",
    "        else:\n",
    "        # If no pixels are found, use previous ones. \n",
    "            if len(indexes)==1:\n",
    "                if (np.abs(indexes[0]-ind_peakR_prev)<np.abs(indexes[0]-ind_peakL_prev)):\n",
    "                    ind_peakR = indexes[0]\n",
    "                    ind_peakL = ind_peakL_prev\n",
    "                else:\n",
    "                    ind_peakL = indexes[0]\n",
    "                    ind_peakR = ind_peakR_prev\n",
    "            else:\n",
    "                ind_peakL = ind_peakL_prev\n",
    "                ind_peakR = ind_peakR_prev\n",
    "            \n",
    "            \n",
    "        # If new center is more than 60pixels away, use previous\n",
    "        # Outlier rejection\n",
    "        if np.abs(ind_peakL-ind_peakL_prev)>=60:\n",
    "            ind_peakL = ind_peakL_prev\n",
    "\n",
    "        if np.abs(ind_peakR-ind_peakR_prev)>=60:\n",
    "            ind_peakR = ind_peakR_prev\n",
    "            \n",
    "    \n",
    "            \n",
    "        mask_L_i[img_y2:img_y1,ind_peakL-window_sz:ind_peakL+window_sz] = 1.\n",
    "        mask_R_i[img_y2:img_y1,ind_peakR-window_sz:ind_peakR+window_sz] = 1.\n",
    "        \n",
    "        ind_peakL_prev = ind_peakL\n",
    "        ind_peakR_prev = ind_peakR\n",
    "        \n",
    "    return mask_L_i,mask_R_i"
   ]
  },
  {
   "cell_type": "code",
   "execution_count": 25,
   "metadata": {
    "collapsed": true
   },
   "outputs": [],
   "source": [
    "def get_mask_poly(img,poly_fit,window_sz):\n",
    "    \n",
    "    # This function returns masks for points used in computing polynomial fit. \n",
    "    mask_poly = np.zeros_like(img)\n",
    "    height,width = np.shape(img)[0],np.shape(img)[1]\n",
    "\n",
    "    poly_pts = []\n",
    "    pt_y_all = []\n",
    "\n",
    "    for i in range(8):\n",
    "        img_y1 = height-height*i/8\n",
    "        img_y2 = height-height*(i+1)/8\n",
    "\n",
    "        pt_y = (img_y1+img_y2)/2\n",
    "        pt_y_all.append(pt_y)\n",
    "        poly_pt = np.round(poly_fit[0]*pt_y**2 + poly_fit[1]*pt_y + poly_fit[2])\n",
    "    \n",
    "        poly_pts.append(poly_pt)\n",
    "    \n",
    "        mask_poly[img_y2:img_y1,poly_pt-window_sz:poly_pt+window_sz] = 1.     \n",
    "\n",
    "    return mask_poly, np.array(poly_pts),np.array(pt_y_all)\n",
    "    "
   ]
  },
  {
   "cell_type": "code",
   "execution_count": 26,
   "metadata": {
    "collapsed": true
   },
   "outputs": [],
   "source": [
    "def get_val(y,pol_a):\n",
    "    # Returns value of a quadratic polynomial \n",
    "    return pol_a[0]*y**2+pol_a[1]*y+pol_a[2]\n",
    "\n",
    "def draw_pw_lines(img,pts,color):\n",
    "    # This function draws lines connecting 10 points along the polynomial\n",
    "    pts = np.int_(pts)\n",
    "    for i in range(10):\n",
    "        x1 = pts[0][i][0]\n",
    "        y1 = pts[0][i][1]\n",
    "        x2 = pts[0][i+1][0]\n",
    "        y2 = pts[0][i+1][1]\n",
    "        cv2.line(img, (x1, y1), (x2, y2),color,50)"
   ]
  },
  {
   "cell_type": "code",
   "execution_count": null,
   "metadata": {
    "collapsed": false
   },
   "outputs": [],
   "source": [
    "def process(image):\n",
    "    global left_fit_prev   \n",
    "    global right_fit_prev\n",
    "    global col_R_prev\n",
    "    global col_L_prev\n",
    "    global set_prev\n",
    "    global mask_poly_L\n",
    "    global mask_poly_R\n",
    "    global window_size\n",
    "    window_size=60\n",
    "    \n",
    "    image     = undistort(image)\n",
    "    image     = blur(image)\n",
    "    warped,Minv_warp    = apply_perspective_transform(image)\n",
    "    image_HSV = RGB2HSV(warped)\n",
    "    height,width = np.shape(image)[0],np.shape(image)[1]\n",
    "\n",
    "    \n",
    "    yellow_hsv_low, yellow_hsv_high  = yellowmask()\n",
    "    white_hsv_low, white_hsv_high    = whitemask()\n",
    "    \n",
    "    mask_yellow = color_mask(image_HSV,yellow_hsv_low,yellow_hsv_high)\n",
    "    mask_white = color_mask(image_HSV,white_hsv_low,white_hsv_high)\n",
    "    \n",
    "    mask_lane=combine(mask_yellow,mask_white)\n",
    "    \n",
    "    image_HLS = cv2.cvtColor(warped,cv2.COLOR_RGB2HLS)\n",
    "\n",
    "    # Apply sobel filters on L and S channels.\n",
    "    img_gs = image_HLS[:,:,1]    #1- Stands for L Channel\n",
    "    img_abs_x = abs_sobel_thresh(img_gs,'x',5,(50,225))\n",
    "    img_abs_y = abs_sobel_thresh(img_gs,'y',5,(50,225))\n",
    "    wraped2 = np.copy(combine(img_abs_x,img_abs_y))\n",
    "    \n",
    "    img_gs = image_HLS[:,:,2]    #2- Stands for S Channel\n",
    "    img_abs_x = abs_sobel_thresh(img_gs,'x',5,(50,255))\n",
    "    img_abs_y = abs_sobel_thresh(img_gs,'y',5,(50,255))\n",
    "    wraped3 = np.copy(combine(img_abs_x,img_abs_y))\n",
    "\n",
    "    \n",
    "    # Combine sobel filter information from L and S channels.\n",
    "    image_cmb = combine(wraped2,wraped3)\n",
    "    image_cmb = blur(image_cmb,25)\n",
    "    \n",
    "    image_cmb1 = np.zeros_like(image_cmb)\n",
    "    image_cmb1[(mask_lane>=.5)|(image_cmb>=.5)]=1\n",
    "    \n",
    "    if set_prev == 0:\n",
    "        image_cmb1 = blur(image_cmb1)\n",
    "        mask_poly_L,mask_poly_R = get_initial_mask(image_cmb1,40)\n",
    "        \n",
    "    # Define all colors as white to start.         \n",
    "    col_R = (255,255,255)\n",
    "    col_L = (255,255,255)\n",
    "    col_R = (255,255,255)\n",
    "    col_L = (255,255,255)\n",
    "    \n",
    "    # Apply mask to sobel images and compute polynomial fit for left. \n",
    "    img_L = np.copy(image_cmb1)\n",
    "    img_L = cv2.bitwise_and(image_cmb1,image_cmb1,\n",
    "                                mask = mask_poly_L)\n",
    "    vals = np.argwhere(img_L>.5)\n",
    "    if len(vals)<5: ## If less than 5 points \n",
    "        left_fit = left_fit_prev\n",
    "        col_L = col_L_prev\n",
    "    else:\n",
    "        all_x = vals.T[0]\n",
    "        all_y =vals.T[1]\n",
    "        left_fit = np.polyfit(all_x, all_y, 2)\n",
    "        if np.sum(cv2.bitwise_and(img_L,mask_yellow))>1000:\n",
    "            col_L = (255,255,0)\n",
    "            \n",
    "    # Apply mask to sobel images and compute polynomial fit for right. \n",
    "    \n",
    "    img_R = np.copy(image_cmb1)\n",
    "    img_R = cv2.bitwise_and(image_cmb1,image_cmb1,\n",
    "                                mask = mask_poly_R)\n",
    "    vals = np.argwhere(img_R>.5)\n",
    "        \n",
    "    if len(vals)<5:\n",
    "        right_fit = right_fit_prev\n",
    "        col_R = col_R_prev\n",
    "    else:\n",
    "        all_x = vals.T[0]\n",
    "        all_y =vals.T[1]\n",
    "        right_fit = np.polyfit(all_x, all_y, 2)\n",
    "        if np.sum(cv2.bitwise_and(img_R,mask_yellow))>1000:\n",
    "            col_R = (255,255,0)\n",
    "    \n",
    "    \n",
    "    ## assign initial mask, and save coefficient values for next frame\n",
    "            \n",
    "    if set_prev == 0:\n",
    "        set_prev = 1\n",
    "        right_fit_prev = right_fit\n",
    "        left_fit_prev  = left_fit\n",
    "    \n",
    "       \n",
    "    ## Check error between current coefficient and on from previous frame\n",
    "    err_p_R = np.sum((right_fit[0]-right_fit_prev[0])**2) \n",
    "    err_p_R = np.sqrt(err_p_R)\n",
    "    if err_p_R>.0005:\n",
    "        right_fit = right_fit_prev\n",
    "        col_R = col_R_prev\n",
    "    else:\n",
    "        right_fit = .05*right_fit+.95*right_fit_prev\n",
    "        \n",
    "    ## Check error between current coefficient and on from previous frame\n",
    "    err_p_L = np.sum((left_fit[0]-left_fit_prev[0])**2) \n",
    "    err_p_L = np.sqrt(err_p_L)\n",
    "    if err_p_L>.0005:\n",
    "        left_fit =  left_fit_prev\n",
    "        col_L = col_L_prev\n",
    "    else:\n",
    "        left_fit =  .05* left_fit+.95* left_fit_prev\n",
    "    \n",
    "\n",
    "    ## Compute lane mask for future frame \n",
    "    mask_poly_L,left_pts,img_pts = get_mask_poly(image_cmb1,left_fit,window_size)\n",
    "    mask_poly_R,right_pts,img_pts = get_mask_poly(image_cmb1,right_fit,window_size)\n",
    "     \n",
    "        \n",
    "    ## Compute lanes\n",
    "        \n",
    "    right_y = np.arange(11)*height/10\n",
    "    right_fitx = right_fit[0]*right_y**2 + right_fit[1]*right_y + right_fit[2]\n",
    "\n",
    "    left_y = np.arange(11)*height/10\n",
    "    left_fitx = left_fit[0]*left_y**2 + left_fit[1]*left_y + left_fit[2]\n",
    "    \n",
    "    warp_zero = np.zeros_like(image_cmb1).astype(np.uint8)\n",
    "    color_warp = np.dstack((warp_zero, warp_zero, warp_zero))\n",
    "\n",
    "    # Recast the x and y points into usable format for cv2.fillPoly()\n",
    "    pts_left = np.array([np.transpose(np.vstack([left_fitx, left_y]))])\n",
    "    pts_right = np.array([np.flipud(np.transpose(np.vstack([right_fitx, right_y])))])\n",
    "    pts = np.hstack((pts_left, pts_right))\n",
    "    \n",
    "\n",
    "    ## Compute intercepts\n",
    "    left_bot = get_val(height,left_fit)\n",
    "    right_bot = get_val(height,right_fit)\n",
    "    \n",
    "    ## Compute center location\n",
    "    val_center = (left_bot+right_bot)/2.0\n",
    "    \n",
    "    ## Compute lane offset\n",
    "    dist_offset = val_center - width/2\n",
    "    dist_offset = np.round(dist_offset/2.81362,2)\n",
    "    str_offset = 'Lane deviation: ' + str(dist_offset) + ' cm.'\n",
    "    \n",
    "    if dist_offset>30:\n",
    "        cv2.fillPoly(color_warp, np.int_([pts]), (255,0, 0))\n",
    "    else:\n",
    "        cv2.fillPoly(color_warp, np.int_([pts]), (0,255, 255))\n",
    "        \n",
    "\n",
    "    # Draw the lane onto the warped blank image    \n",
    "    draw_pw_lines(color_warp,np.int_(pts_left),col_L)\n",
    "    draw_pw_lines(color_warp,np.int_(pts_right),col_R)\n",
    "    # Warp the blank back to original image space using inverse perspective matrix (Minv)\n",
    "    \n",
    "    newwarp = cv2.warpPerspective(color_warp, Minv_warp, (image.shape[1], image.shape[0])) \n",
    "    # Combine the result with the original image\n",
    "    result = cv2.addWeighted(image, 1, newwarp, 0.5, 0)\n",
    "    \n",
    "    left_curve = get_curvature(left_fit,height/2)\n",
    "    Right_curve = get_curvature(right_fit,height/2)\n",
    "    \n",
    "    str_curv = 'Curvature: Right = ' + str(np.round(Right_curve,2)) + ', Left = ' + str(np.round(left_curve,2)) \n",
    "    # Change color if distance is more than 30 cm\n",
    "    font = cv2.FONT_HERSHEY_COMPLEX    \n",
    "    if dist_offset<30:\n",
    "        cv2.putText(result, str_curv, (30, 60), font, 1, (0,255,0), 2)\n",
    "        cv2.putText(result, str_offset, (30, 90), font, 1, (0,255,0), 2)\n",
    "    else:\n",
    "        cv2.putText(result, str_curv, (30, 60), font, 1, (255,0,0), 2)\n",
    "        cv2.putText(result, str_offset, (30, 90), font, 1, (255,0,0), 2)\n",
    "    \n",
    "    \n",
    "    \n",
    "    right_fit_prev = right_fit\n",
    "    left_fit_prev  = left_fit\n",
    "    col_R_prev = col_R\n",
    "    col_L_prev = col_L\n",
    "    \n",
    "    \n",
    "    #return result    # using cv2 for drawing text in diagnostic pipeline.\n",
    "    \n",
    "    if do_diagnosis == 1:\n",
    "        font = cv2.FONT_HERSHEY_COMPLEX\n",
    "        middlepanel = np.zeros((120, 1280, 3), dtype=np.uint8)\n",
    "        cv2.putText(middlepanel, str_curv, (30, 60), font, 1, (255,0,0), 2)\n",
    "        cv2.putText(middlepanel, str_offset, (30, 90), font, 1, (255,0,0), 2)\n",
    "    \n",
    "        # assemble the screen example\n",
    "        diagScreen = np.zeros((1080, 1920, 3), dtype=np.uint8)\n",
    "        diagScreen[0:720, 0:1280] = result\n",
    "        diagScreen[0:240, 1280:1600] = cv2.resize(warped, (320,240), interpolation=cv2.INTER_AREA) \n",
    "        diagScreen[0:240, 1600:1920] = cv2.resize(stack_arr(mask_lane), (320,240), interpolation=cv2.INTER_AREA)\n",
    "        diagScreen[240:480, 1280:1600] = cv2.resize(apply_color_mask(image_HSV,warped,yellow_hsv_low,yellow_hsv_high), (320,240), interpolation=cv2.INTER_AREA)\n",
    "        diagScreen[240:480, 1600:1920] = cv2.resize(apply_color_mask(image_HSV,warped,white_hsv_low,white_hsv_high), (320,240), interpolation=cv2.INTER_AREA)*4\n",
    "        diagScreen[600:1080, 1280:1920] = cv2.resize(color_warp, (640,480), interpolation=cv2.INTER_AREA)*4\n",
    "        diagScreen[720:840, 0:1280] = middlepanel\n",
    "        diagScreen[840:1080, 0:320] = cv2.resize(newwarp, (320,240), interpolation=cv2.INTER_AREA)\n",
    "        #diagScreen[840:1080, 320:640] = cv2.resize(stack_arr(255*mask_poly_L), (320,240), interpolation=cv2.INTER_AREA)\n",
    "        #diagScreen[840:1080, 640:960] = cv2.resize(stack_arr(255*mask_poly_R), (320,240), interpolation=cv2.INTER_AREA)\n",
    "        #diagScreen[840:1080, 960:1280] = cv2.resize(stack_arr(255*image_cmb1), (320,240), interpolation=cv2.INTER_AREA)\n",
    "    \n",
    "        diagScreen[840:1080, 320:640] = cv2.resize(stack_arr(255*image_cmb1), (320,240), interpolation=cv2.INTER_AREA)\n",
    "        diagScreen[840:1080, 640:960] = cv2.resize(stack_arr(255*mask_poly_L+255*mask_poly_R), (320,240), interpolation=cv2.INTER_AREA)\n",
    "        diagScreen[840:1080, 960:1280] = cv2.resize(stack_arr(255*cv2.bitwise_and(image_cmb1,image_cmb1,\n",
    "                                                                              mask=mask_poly_L+mask_poly_R)),\n",
    "                                                (320,240), interpolation=cv2.INTER_AREA)\n",
    "        return diagScreen\n",
    "    else:\n",
    "        return result\n",
    "    \n",
    "    \n",
    "    \n",
    "    "
   ]
  },
  {
   "cell_type": "code",
   "execution_count": null,
   "metadata": {
    "collapsed": false
   },
   "outputs": [
    {
     "name": "stdout",
     "output_type": "stream",
     "text": [
      "[MoviePy] >>>> Building video project_video_output.mp4\n",
      "[MoviePy] Writing video project_video_output.mp4\n"
     ]
    },
    {
     "name": "stderr",
     "output_type": "stream",
     "text": [
      "  4%|▍         | 51/1261 [05:33<2:15:12,  6.70s/it]"
     ]
    }
   ],
   "source": [
    "set_prev = 0\n",
    "do_diagnosis = 0\n",
    "\n",
    "project_output = 'project_video_output.mp4'\n",
    "clip1 = VideoFileClip(\"project_video.mp4\");\n",
    "white_clip = clip1.fl_image(process) #NOTE: this function expects color images!!\n",
    "%time white_clip.write_videofile(project_output, audio=False);"
   ]
  },
  {
   "cell_type": "code",
   "execution_count": null,
   "metadata": {
    "collapsed": true
   },
   "outputs": [],
   "source": []
  }
 ],
 "metadata": {
  "kernelspec": {
   "display_name": "Python 2",
   "language": "python",
   "name": "python2"
  },
  "language_info": {
   "codemirror_mode": {
    "name": "ipython",
    "version": 2
   },
   "file_extension": ".py",
   "mimetype": "text/x-python",
   "name": "python",
   "nbconvert_exporter": "python",
   "pygments_lexer": "ipython2",
   "version": "2.7.13"
  }
 },
 "nbformat": 4,
 "nbformat_minor": 2
}
